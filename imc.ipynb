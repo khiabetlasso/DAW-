{
  "nbformat": 4,
  "nbformat_minor": 0,
  "metadata": {
    "colab": {
      "provenance": [],
      "authorship_tag": "ABX9TyMcVvMKvoSrowLLYHgotbK7",
      "include_colab_link": true
    },
    "kernelspec": {
      "name": "python3",
      "display_name": "Python 3"
    },
    "language_info": {
      "name": "python"
    }
  },
  "cells": [
    {
      "cell_type": "markdown",
      "metadata": {
        "id": "view-in-github",
        "colab_type": "text"
      },
      "source": [
        "<a href=\"https://colab.research.google.com/github/khiabetlasso/DAW-/blob/main/imc.ipynb\" target=\"_parent\"><img src=\"https://colab.research.google.com/assets/colab-badge.svg\" alt=\"Open In Colab\"/></a>"
      ]
    },
    {
      "cell_type": "markdown",
      "source": [
        "## Cálculo del indice de la masa corporal"
      ],
      "metadata": {
        "id": "8grPfD2gJB_v"
      }
    },
    {
      "cell_type": "code",
      "source": [
        "#@title Cáculo del IMC {run: \"auto\"}\n",
        "estatura = 1.54 #@param {type: \"number\"}\n",
        "peso = 75 #@param {type: \"number\"}\n",
        "imc=peso/estatura**2\n",
        "print(imc) \n"
      ],
      "metadata": {
        "id": "BECdIafDJlQZ"
      },
      "execution_count": null,
      "outputs": []
    }
  ]
}